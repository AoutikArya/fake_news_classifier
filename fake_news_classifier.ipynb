{
 "cells": [
  {
   "cell_type": "code",
   "execution_count": 25,
   "id": "293a06b4",
   "metadata": {},
   "outputs": [],
   "source": [
    "import pandas as pd\n",
    "import re\n",
    "from nltk.stem import PorterStemmer,WordNetLemmatizer\n",
    "import seaborn as sns\n",
    "ps=PorterStemmer()\n",
    "wl=WordNetLemmatizer()\n",
    "import numpy as np"
   ]
  },
  {
   "cell_type": "code",
   "execution_count": 2,
   "id": "95d7a9d4",
   "metadata": {},
   "outputs": [
    {
     "data": {
      "text/html": [
       "<div>\n",
       "<style scoped>\n",
       "    .dataframe tbody tr th:only-of-type {\n",
       "        vertical-align: middle;\n",
       "    }\n",
       "\n",
       "    .dataframe tbody tr th {\n",
       "        vertical-align: top;\n",
       "    }\n",
       "\n",
       "    .dataframe thead th {\n",
       "        text-align: right;\n",
       "    }\n",
       "</style>\n",
       "<table border=\"1\" class=\"dataframe\">\n",
       "  <thead>\n",
       "    <tr style=\"text-align: right;\">\n",
       "      <th></th>\n",
       "      <th>index</th>\n",
       "      <th>author</th>\n",
       "      <th>published</th>\n",
       "      <th>title</th>\n",
       "      <th>text</th>\n",
       "      <th>language</th>\n",
       "      <th>site_url</th>\n",
       "      <th>main_img_url</th>\n",
       "      <th>type</th>\n",
       "      <th>label</th>\n",
       "      <th>title_without_stopwords</th>\n",
       "      <th>text_without_stopwords</th>\n",
       "      <th>hasImage</th>\n",
       "    </tr>\n",
       "  </thead>\n",
       "  <tbody>\n",
       "    <tr>\n",
       "      <th>0</th>\n",
       "      <td>0</td>\n",
       "      <td>Barracuda Brigade</td>\n",
       "      <td>2016-10-26T21:41:00.000+03:00</td>\n",
       "      <td>muslims busted they stole millions in govt ben...</td>\n",
       "      <td>print they should pay all the back all the mon...</td>\n",
       "      <td>english</td>\n",
       "      <td>100percentfedup.com</td>\n",
       "      <td>http://bb4sp.com/wp-content/uploads/2016/10/Fu...</td>\n",
       "      <td>bias</td>\n",
       "      <td>Real</td>\n",
       "      <td>muslims busted stole millions govt benefits</td>\n",
       "      <td>print pay back money plus interest entire fami...</td>\n",
       "      <td>1.0</td>\n",
       "    </tr>\n",
       "    <tr>\n",
       "      <th>1</th>\n",
       "      <td>1</td>\n",
       "      <td>reasoning with facts</td>\n",
       "      <td>2016-10-29T08:47:11.259+03:00</td>\n",
       "      <td>re why did attorney general loretta lynch plea...</td>\n",
       "      <td>why did attorney general loretta lynch plead t...</td>\n",
       "      <td>english</td>\n",
       "      <td>100percentfedup.com</td>\n",
       "      <td>http://bb4sp.com/wp-content/uploads/2016/10/Fu...</td>\n",
       "      <td>bias</td>\n",
       "      <td>Real</td>\n",
       "      <td>attorney general loretta lynch plead fifth</td>\n",
       "      <td>attorney general loretta lynch plead fifth bar...</td>\n",
       "      <td>1.0</td>\n",
       "    </tr>\n",
       "    <tr>\n",
       "      <th>2</th>\n",
       "      <td>2</td>\n",
       "      <td>Barracuda Brigade</td>\n",
       "      <td>2016-10-31T01:41:49.479+02:00</td>\n",
       "      <td>breaking weiner cooperating with fbi on hillar...</td>\n",
       "      <td>red state  \\nfox news sunday reported this mor...</td>\n",
       "      <td>english</td>\n",
       "      <td>100percentfedup.com</td>\n",
       "      <td>http://bb4sp.com/wp-content/uploads/2016/10/Fu...</td>\n",
       "      <td>bias</td>\n",
       "      <td>Real</td>\n",
       "      <td>breaking weiner cooperating fbi hillary email ...</td>\n",
       "      <td>red state fox news sunday reported morning ant...</td>\n",
       "      <td>1.0</td>\n",
       "    </tr>\n",
       "    <tr>\n",
       "      <th>3</th>\n",
       "      <td>3</td>\n",
       "      <td>Fed Up</td>\n",
       "      <td>2016-11-01T05:22:00.000+02:00</td>\n",
       "      <td>pin drop speech by father of daughter kidnappe...</td>\n",
       "      <td>email kayla mueller was a prisoner and torture...</td>\n",
       "      <td>english</td>\n",
       "      <td>100percentfedup.com</td>\n",
       "      <td>http://100percentfedup.com/wp-content/uploads/...</td>\n",
       "      <td>bias</td>\n",
       "      <td>Real</td>\n",
       "      <td>pin drop speech father daughter kidnapped kill...</td>\n",
       "      <td>email kayla mueller prisoner tortured isis cha...</td>\n",
       "      <td>1.0</td>\n",
       "    </tr>\n",
       "    <tr>\n",
       "      <th>4</th>\n",
       "      <td>4</td>\n",
       "      <td>Fed Up</td>\n",
       "      <td>2016-11-01T21:56:00.000+02:00</td>\n",
       "      <td>fantastic trumps  point plan to reform healthc...</td>\n",
       "      <td>email healthcare reform to make america great ...</td>\n",
       "      <td>english</td>\n",
       "      <td>100percentfedup.com</td>\n",
       "      <td>http://100percentfedup.com/wp-content/uploads/...</td>\n",
       "      <td>bias</td>\n",
       "      <td>Real</td>\n",
       "      <td>fantastic trumps point plan reform healthcare ...</td>\n",
       "      <td>email healthcare reform make america great sin...</td>\n",
       "      <td>1.0</td>\n",
       "    </tr>\n",
       "  </tbody>\n",
       "</table>\n",
       "</div>"
      ],
      "text/plain": [
       "   index                author                      published  \\\n",
       "0      0     Barracuda Brigade  2016-10-26T21:41:00.000+03:00   \n",
       "1      1  reasoning with facts  2016-10-29T08:47:11.259+03:00   \n",
       "2      2     Barracuda Brigade  2016-10-31T01:41:49.479+02:00   \n",
       "3      3                Fed Up  2016-11-01T05:22:00.000+02:00   \n",
       "4      4                Fed Up  2016-11-01T21:56:00.000+02:00   \n",
       "\n",
       "                                               title  \\\n",
       "0  muslims busted they stole millions in govt ben...   \n",
       "1  re why did attorney general loretta lynch plea...   \n",
       "2  breaking weiner cooperating with fbi on hillar...   \n",
       "3  pin drop speech by father of daughter kidnappe...   \n",
       "4  fantastic trumps  point plan to reform healthc...   \n",
       "\n",
       "                                                text language  \\\n",
       "0  print they should pay all the back all the mon...  english   \n",
       "1  why did attorney general loretta lynch plead t...  english   \n",
       "2  red state  \\nfox news sunday reported this mor...  english   \n",
       "3  email kayla mueller was a prisoner and torture...  english   \n",
       "4  email healthcare reform to make america great ...  english   \n",
       "\n",
       "              site_url                                       main_img_url  \\\n",
       "0  100percentfedup.com  http://bb4sp.com/wp-content/uploads/2016/10/Fu...   \n",
       "1  100percentfedup.com  http://bb4sp.com/wp-content/uploads/2016/10/Fu...   \n",
       "2  100percentfedup.com  http://bb4sp.com/wp-content/uploads/2016/10/Fu...   \n",
       "3  100percentfedup.com  http://100percentfedup.com/wp-content/uploads/...   \n",
       "4  100percentfedup.com  http://100percentfedup.com/wp-content/uploads/...   \n",
       "\n",
       "   type label                            title_without_stopwords  \\\n",
       "0  bias  Real        muslims busted stole millions govt benefits   \n",
       "1  bias  Real         attorney general loretta lynch plead fifth   \n",
       "2  bias  Real  breaking weiner cooperating fbi hillary email ...   \n",
       "3  bias  Real  pin drop speech father daughter kidnapped kill...   \n",
       "4  bias  Real  fantastic trumps point plan reform healthcare ...   \n",
       "\n",
       "                              text_without_stopwords  hasImage  \n",
       "0  print pay back money plus interest entire fami...       1.0  \n",
       "1  attorney general loretta lynch plead fifth bar...       1.0  \n",
       "2  red state fox news sunday reported morning ant...       1.0  \n",
       "3  email kayla mueller prisoner tortured isis cha...       1.0  \n",
       "4  email healthcare reform make america great sin...       1.0  "
      ]
     },
     "execution_count": 2,
     "metadata": {},
     "output_type": "execute_result"
    }
   ],
   "source": [
    "data=pd.read_csv(\"news_articles.csv\")\n",
    "data.head()\n",
    "data=data.dropna(axis=0)\n",
    "data.reset_index(inplace=True)\n",
    "data.head()"
   ]
  },
  {
   "cell_type": "code",
   "execution_count": 39,
   "id": "8656179b",
   "metadata": {},
   "outputs": [
    {
     "name": "stderr",
     "output_type": "stream",
     "text": [
      "C:\\ProgramData\\Anaconda3\\lib\\site-packages\\seaborn\\_decorators.py:36: FutureWarning: Pass the following variable as a keyword arg: x. From version 0.12, the only valid positional argument will be `data`, and passing other arguments without an explicit keyword will result in an error or misinterpretation.\n",
      "  warnings.warn(\n"
     ]
    },
    {
     "data": {
      "text/plain": [
       "(Fake    1291\n",
       " Real     754\n",
       " Name: label, dtype: int64,\n",
       " 0       print pay back money plus interest entire fami...\n",
       " 1       attorney general loretta lynch plead fifth bar...\n",
       " 2       red state fox news sunday reported morning ant...\n",
       " 3       email kayla mueller prisoner tortured isis cha...\n",
       " 4       email healthcare reform make america great sin...\n",
       "                               ...                        \n",
       " 2040    check hillarythemed haunted house anticlinton ...\n",
       " 2041    good samaritan wearing indian headdress disarm...\n",
       " 2042    skype sex scam fortune built shame moroccan bo...\n",
       " 2043    posted eddie skyhigh potency may scare away cr...\n",
       " 2044    billion even known keeping supposedly deleted ...\n",
       " Length: 2045, dtype: object)"
      ]
     },
     "execution_count": 39,
     "metadata": {},
     "output_type": "execute_result"
    },
    {
     "data": {
      "image/png": "[encoded data removed]",
      "text/plain": [
       "<Figure size 432x288 with 1 Axes>"
      ]
     },
     "metadata": {
      "needs_background": "light"
     },
     "output_type": "display_data"
    }
   ],
   "source": [
    "x=data['text_without_stopwords']+' '+data['title_without_stopwords']\n",
    "y=data['label']\n",
    "\n",
    "\n",
    "x.shape,y.shape\n",
    "\n",
    "sns.countplot(data['label'])\n",
    "data['label'].value_counts(),x"
   ]
  },
  {
   "cell_type": "code",
   "execution_count": 40,
   "id": "2e5bb578",
   "metadata": {},
   "outputs": [],
   "source": [
    "k=[]\n",
    "for i in range(len(data)):\n",
    "    review=re.sub('[^a-zA-Z]',' ',str(x[i]))\n",
    "    review=review.split()\n",
    "    review=[wl.lemmatize(word) for word in review]\n",
    "    review=\" \".join(review)\n",
    "    k.append(review)\n"
   ]
  },
  {
   "cell_type": "code",
   "execution_count": 41,
   "id": "b5489987",
   "metadata": {},
   "outputs": [
    {
     "data": {
      "text/plain": [
       "array([1, 1, 1, ..., 1, 1, 1])"
      ]
     },
     "execution_count": 41,
     "metadata": {},
     "output_type": "execute_result"
    }
   ],
   "source": [
    "from sklearn.preprocessing import LabelEncoder\n",
    "le=LabelEncoder()\n",
    "y=le.fit_transform(y)\n",
    "y"
   ]
  },
  {
   "cell_type": "code",
   "execution_count": null,
   "id": "68fc4fe5",
   "metadata": {},
   "outputs": [],
   "source": []
  },
  {
   "cell_type": "raw",
   "id": "350a9ed4",
   "metadata": {},
   "source": []
  },
  {
   "cell_type": "code",
   "execution_count": 53,
   "id": "26a17383",
   "metadata": {},
   "outputs": [],
   "source": [
    "from tensorflow.keras.preprocessing.text import one_hot\n",
    "from tensorflow.keras.preprocessing.sequence import pad_sequences\n",
    "from tensorflow.keras.models import Sequential\n",
    "from tensorflow.keras.layers import Embedding\n",
    "from tensorflow.keras.layers import Dense\n",
    "from tensorflow.keras.layers import LSTM\n",
    "from tensorflow.keras.layers import Dropout\n",
    "voc=10000"
   ]
  },
  {
   "cell_type": "code",
   "execution_count": 63,
   "id": "cfce0d82",
   "metadata": {},
   "outputs": [
    {
     "data": {
      "text/plain": [
       "((2045, 15), (2045,))"
      ]
     },
     "execution_count": 63,
     "metadata": {},
     "output_type": "execute_result"
    }
   ],
   "source": [
    "oh=[one_hot(word,voc)for word in k]\n",
    "pad=pad_sequences(oh,padding='pre',maxlen=15)\n",
    "X=pad\n",
    "y=np.array(y)\n",
    "X.shape,y.shape"
   ]
  },
  {
   "cell_type": "code",
   "execution_count": 55,
   "id": "59dbb1b0",
   "metadata": {},
   "outputs": [],
   "source": [
    "from sklearn.model_selection import train_test_split\n",
    "X_train,X_test,y_train,y_test=train_test_split(X,y,test_size=0.2,random_state=0)"
   ]
  },
  {
   "cell_type": "code",
   "execution_count": 56,
   "id": "b21d0c6a",
   "metadata": {},
   "outputs": [
    {
     "name": "stdout",
     "output_type": "stream",
     "text": [
      "Model: \"sequential_6\"\n",
      "_________________________________________________________________\n",
      "Layer (type)                 Output Shape              Param #   \n",
      "=================================================================\n",
      "embedding_6 (Embedding)      (None, 15, 20)            200000    \n",
      "_________________________________________________________________\n",
      "dropout_11 (Dropout)         (None, 15, 20)            0         \n",
      "_________________________________________________________________\n",
      "lstm_6 (LSTM)                (None, 30)                6120      \n",
      "_________________________________________________________________\n",
      "dense_6 (Dense)              (None, 1)                 31        \n",
      "=================================================================\n",
      "Total params: 206,151\n",
      "Trainable params: 206,151\n",
      "Non-trainable params: 0\n",
      "_________________________________________________________________\n"
     ]
    }
   ],
   "source": [
    "model=Sequential()\n",
    "\n",
    "model.add(Embedding(voc,20,input_length=15))\n",
    "model.add(Dropout(0.2))\n",
    "model.add(LSTM(30))\n",
    "#model.add(Dropout(0.2))\n",
    "model.add(Dense(1,'sigmoid',))\n",
    "model.compile(loss='binary_crossentropy',metrics=['accuracy'],optimizer='adam')\n",
    "model.summary()"
   ]
  },
  {
   "cell_type": "code",
   "execution_count": 60,
   "id": "f79d35f4",
   "metadata": {},
   "outputs": [
    {
     "name": "stdout",
     "output_type": "stream",
     "text": [
      "Epoch 1/20\n",
      "52/52 [==============================] - 1s 13ms/step - loss: 0.1748 - accuracy: 0.9480 - val_loss: 0.0609 - val_accuracy: 0.9902\n",
      "Epoch 2/20\n",
      "52/52 [==============================] - 1s 13ms/step - loss: 0.0360 - accuracy: 0.9896 - val_loss: 0.0089 - val_accuracy: 0.9982\n",
      "Epoch 3/20\n",
      "52/52 [==============================] - 1s 13ms/step - loss: 0.0105 - accuracy: 0.9982 - val_loss: 0.0038 - val_accuracy: 0.9988\n",
      "Epoch 4/20\n",
      "52/52 [==============================] - 1s 13ms/step - loss: 0.0036 - accuracy: 0.9988 - val_loss: 0.0023 - val_accuracy: 1.0000\n",
      "Epoch 5/20\n",
      "52/52 [==============================] - 1s 11ms/step - loss: 0.0028 - accuracy: 1.0000 - val_loss: 0.0018 - val_accuracy: 1.0000\n",
      "Epoch 6/20\n",
      "52/52 [==============================] - 1s 10ms/step - loss: 0.0023 - accuracy: 1.0000 - val_loss: 0.0014 - val_accuracy: 1.0000\n",
      "Epoch 7/20\n",
      "52/52 [==============================] - 1s 10ms/step - loss: 0.0016 - accuracy: 1.0000 - val_loss: 0.0011 - val_accuracy: 1.0000\n",
      "Epoch 8/20\n",
      "52/52 [==============================] - 1s 10ms/step - loss: 0.0015 - accuracy: 1.0000 - val_loss: 9.6818e-04 - val_accuracy: 1.0000\n",
      "Epoch 9/20\n",
      "52/52 [==============================] - 1s 10ms/step - loss: 0.0011 - accuracy: 1.0000 - val_loss: 8.1905e-04 - val_accuracy: 1.0000\n",
      "Epoch 10/20\n",
      "52/52 [==============================] - 1s 10ms/step - loss: 0.0011 - accuracy: 1.0000 - val_loss: 8.2932e-04 - val_accuracy: 1.0000\n",
      "Epoch 11/20\n",
      "52/52 [==============================] - 1s 10ms/step - loss: 7.3242e-04 - accuracy: 1.0000 - val_loss: 6.5488e-04 - val_accuracy: 1.0000\n",
      "Epoch 12/20\n",
      "52/52 [==============================] - 1s 10ms/step - loss: 8.9307e-04 - accuracy: 1.0000 - val_loss: 5.9265e-04 - val_accuracy: 1.0000\n",
      "Epoch 13/20\n",
      "52/52 [==============================] - 1s 10ms/step - loss: 6.9471e-04 - accuracy: 1.0000 - val_loss: 5.4086e-04 - val_accuracy: 1.0000\n",
      "Epoch 14/20\n",
      "52/52 [==============================] - 1s 10ms/step - loss: 5.5062e-04 - accuracy: 1.0000 - val_loss: 5.0012e-04 - val_accuracy: 1.0000\n",
      "Epoch 15/20\n",
      "52/52 [==============================] - 1s 10ms/step - loss: 5.4991e-04 - accuracy: 1.0000 - val_loss: 4.7030e-04 - val_accuracy: 1.0000\n",
      "Epoch 16/20\n",
      "52/52 [==============================] - 1s 10ms/step - loss: 7.5082e-04 - accuracy: 1.0000 - val_loss: 8.5990e-04 - val_accuracy: 1.0000\n",
      "Epoch 17/20\n",
      "52/52 [==============================] - 1s 10ms/step - loss: 0.0017 - accuracy: 0.9994 - val_loss: 0.0028 - val_accuracy: 0.9994\n",
      "Epoch 18/20\n",
      "52/52 [==============================] - 1s 11ms/step - loss: 0.0020 - accuracy: 0.9994 - val_loss: 9.5716e-04 - val_accuracy: 1.0000\n",
      "Epoch 19/20\n",
      "52/52 [==============================] - 1s 11ms/step - loss: 7.7735e-04 - accuracy: 1.0000 - val_loss: 4.5914e-04 - val_accuracy: 1.0000\n",
      "Epoch 20/20\n",
      "52/52 [==============================] - 1s 11ms/step - loss: 5.2923e-04 - accuracy: 1.0000 - val_loss: 3.8932e-04 - val_accuracy: 1.0000\n"
     ]
    },
    {
     "data": {
      "text/plain": [
       "<keras.callbacks.History at 0x29182cd6820>"
      ]
     },
     "execution_count": 60,
     "metadata": {},
     "output_type": "execute_result"
    }
   ],
   "source": [
    "model.fit(X_train,y_train,validation_data=(X_train,y_train),epochs=20,batch_size=32)"
   ]
  },
  {
   "cell_type": "code",
   "execution_count": 61,
   "id": "7f3aeefb",
   "metadata": {},
   "outputs": [],
   "source": [
    "from sklearn.metrics import accuracy_score,confusion_matrix"
   ]
  },
  {
   "cell_type": "code",
   "execution_count": 62,
   "id": "4f6c301b",
   "metadata": {},
   "outputs": [
    {
     "data": {
      "text/plain": [
       "0.6992665036674817"
      ]
     },
     "execution_count": 62,
     "metadata": {},
     "output_type": "execute_result"
    }
   ],
   "source": [
    "y_pred = (model.predict(X_test) > 0.5).astype(\"int32\")\n",
    "\n",
    "accuracy_score(y_pred,y_test)\n"
   ]
  },
  {
   "cell_type": "code",
   "execution_count": null,
   "id": "4cd4a9f1",
   "metadata": {},
   "outputs": [],
   "source": []
  },
  {
   "cell_type": "code",
   "execution_count": null,
   "id": "6460b172",
   "metadata": {},
   "outputs": [],
   "source": []
  }
 ],
 "metadata": {
  "kernelspec": {
   "display_name": "Python 3",
   "language": "python",
   "name": "python3"
  },
  "language_info": {
   "codemirror_mode": {
    "name": "ipython",
    "version": 3
   },
   "file_extension": ".py",
   "mimetype": "text/x-python",
   "name": "python",
   "nbconvert_exporter": "python",
   "pygments_lexer": "ipython3",
   "version": "3.8.8"
  }
 },
 "nbformat": 4,
 "nbformat_minor": 5
}
